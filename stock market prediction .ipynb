{
 "cells": [
  {
   "cell_type": "code",
   "execution_count": 102,
   "id": "8261ac6f-b47d-4327-b403-18e86b5f5c6d",
   "metadata": {},
   "outputs": [],
   "source": [
    "import pandas as pd\n",
    "import numpy as np\n",
    "from tensorflow.keras.models import Sequential\n",
    "from tensorflow.keras.layers import LSTM, Dense\n",
    "from sklearn.preprocessing import MinMaxScaler\n",
    "from sklearn.metrics import mean_squared_error\n",
    "import matplotlib.pyplot as plt\n",
    "from tensorflow.keras.optimizers import Adam\n",
    "from tensorflow.keras.callbacks import EarlyStopping\n",
    "from sklearn.metrics import mean_squared_error, mean_absolute_error, r2_score\n"
   ]
  },
  {
   "cell_type": "code",
   "execution_count": 73,
   "id": "f2846e61-2882-4171-8a23-a1a5dfb4fde1",
   "metadata": {},
   "outputs": [
    {
     "data": {
      "text/plain": [
       "Date        0\n",
       "open        0\n",
       "high        0\n",
       "low         0\n",
       "close       0\n",
       "adjclose    0\n",
       "volume      0\n",
       "dtype: int64"
      ]
     },
     "execution_count": 73,
     "metadata": {},
     "output_type": "execute_result"
    }
   ],
   "source": [
    "# Load the data\n",
    "file_path = \"C:\\\\Users\\\\Rajan\\\\Desktop\\\\IRFC\\\\IRFC_data.csv\"\n",
    "data = pd.read_csv(file_path)\n",
    "data = data.iloc[:, :-1]\n",
    "data.isnull().sum()"
   ]
  },
  {
   "cell_type": "code",
   "execution_count": 114,
   "id": "9a99b377-44e3-4dfb-be24-879a67cb68e1",
   "metadata": {},
   "outputs": [
    {
     "data": {
      "text/html": [
       "<div>\n",
       "<style scoped>\n",
       "    .dataframe tbody tr th:only-of-type {\n",
       "        vertical-align: middle;\n",
       "    }\n",
       "\n",
       "    .dataframe tbody tr th {\n",
       "        vertical-align: top;\n",
       "    }\n",
       "\n",
       "    .dataframe thead th {\n",
       "        text-align: right;\n",
       "    }\n",
       "</style>\n",
       "<table border=\"1\" class=\"dataframe\">\n",
       "  <thead>\n",
       "    <tr style=\"text-align: right;\">\n",
       "      <th></th>\n",
       "      <th>open</th>\n",
       "      <th>high</th>\n",
       "      <th>low</th>\n",
       "      <th>close</th>\n",
       "      <th>adjclose</th>\n",
       "      <th>volume</th>\n",
       "    </tr>\n",
       "    <tr>\n",
       "      <th>Date</th>\n",
       "      <th></th>\n",
       "      <th></th>\n",
       "      <th></th>\n",
       "      <th></th>\n",
       "      <th></th>\n",
       "      <th></th>\n",
       "    </tr>\n",
       "  </thead>\n",
       "  <tbody>\n",
       "    <tr>\n",
       "      <th>2021-01-29</th>\n",
       "      <td>24.900000</td>\n",
       "      <td>25.799999</td>\n",
       "      <td>24.350000</td>\n",
       "      <td>24.799999</td>\n",
       "      <td>21.363667</td>\n",
       "      <td>381938573</td>\n",
       "    </tr>\n",
       "    <tr>\n",
       "      <th>2021-02-01</th>\n",
       "      <td>25.250000</td>\n",
       "      <td>25.400000</td>\n",
       "      <td>24.900000</td>\n",
       "      <td>25.100000</td>\n",
       "      <td>21.622095</td>\n",
       "      <td>72044464</td>\n",
       "    </tr>\n",
       "    <tr>\n",
       "      <th>2021-02-02</th>\n",
       "      <td>25.450001</td>\n",
       "      <td>25.450001</td>\n",
       "      <td>24.700001</td>\n",
       "      <td>24.750000</td>\n",
       "      <td>21.320593</td>\n",
       "      <td>36735442</td>\n",
       "    </tr>\n",
       "    <tr>\n",
       "      <th>2021-02-03</th>\n",
       "      <td>24.799999</td>\n",
       "      <td>24.900000</td>\n",
       "      <td>24.049999</td>\n",
       "      <td>24.250000</td>\n",
       "      <td>20.889874</td>\n",
       "      <td>45816269</td>\n",
       "    </tr>\n",
       "    <tr>\n",
       "      <th>2021-02-04</th>\n",
       "      <td>24.250000</td>\n",
       "      <td>25.799999</td>\n",
       "      <td>23.850000</td>\n",
       "      <td>25.350000</td>\n",
       "      <td>21.837458</td>\n",
       "      <td>88486029</td>\n",
       "    </tr>\n",
       "    <tr>\n",
       "      <th>...</th>\n",
       "      <td>...</td>\n",
       "      <td>...</td>\n",
       "      <td>...</td>\n",
       "      <td>...</td>\n",
       "      <td>...</td>\n",
       "      <td>...</td>\n",
       "    </tr>\n",
       "    <tr>\n",
       "      <th>2024-04-23</th>\n",
       "      <td>144.750000</td>\n",
       "      <td>148.199997</td>\n",
       "      <td>143.600006</td>\n",
       "      <td>147.750000</td>\n",
       "      <td>147.750000</td>\n",
       "      <td>41842082</td>\n",
       "    </tr>\n",
       "    <tr>\n",
       "      <th>2024-04-24</th>\n",
       "      <td>149.000000</td>\n",
       "      <td>150.449997</td>\n",
       "      <td>147.500000</td>\n",
       "      <td>149.000000</td>\n",
       "      <td>149.000000</td>\n",
       "      <td>44593104</td>\n",
       "    </tr>\n",
       "    <tr>\n",
       "      <th>2024-04-25</th>\n",
       "      <td>149.000000</td>\n",
       "      <td>152.000000</td>\n",
       "      <td>147.250000</td>\n",
       "      <td>150.250000</td>\n",
       "      <td>150.250000</td>\n",
       "      <td>43990323</td>\n",
       "    </tr>\n",
       "    <tr>\n",
       "      <th>2024-04-26</th>\n",
       "      <td>151.000000</td>\n",
       "      <td>159.000000</td>\n",
       "      <td>149.600006</td>\n",
       "      <td>158.050003</td>\n",
       "      <td>158.050003</td>\n",
       "      <td>131170998</td>\n",
       "    </tr>\n",
       "    <tr>\n",
       "      <th>2024-04-29</th>\n",
       "      <td>161.500000</td>\n",
       "      <td>164.199997</td>\n",
       "      <td>159.600006</td>\n",
       "      <td>160.899994</td>\n",
       "      <td>160.899994</td>\n",
       "      <td>67455723</td>\n",
       "    </tr>\n",
       "  </tbody>\n",
       "</table>\n",
       "<p>801 rows × 6 columns</p>\n",
       "</div>"
      ],
      "text/plain": [
       "                  open        high         low       close    adjclose  \\\n",
       "Date                                                                     \n",
       "2021-01-29   24.900000   25.799999   24.350000   24.799999   21.363667   \n",
       "2021-02-01   25.250000   25.400000   24.900000   25.100000   21.622095   \n",
       "2021-02-02   25.450001   25.450001   24.700001   24.750000   21.320593   \n",
       "2021-02-03   24.799999   24.900000   24.049999   24.250000   20.889874   \n",
       "2021-02-04   24.250000   25.799999   23.850000   25.350000   21.837458   \n",
       "...                ...         ...         ...         ...         ...   \n",
       "2024-04-23  144.750000  148.199997  143.600006  147.750000  147.750000   \n",
       "2024-04-24  149.000000  150.449997  147.500000  149.000000  149.000000   \n",
       "2024-04-25  149.000000  152.000000  147.250000  150.250000  150.250000   \n",
       "2024-04-26  151.000000  159.000000  149.600006  158.050003  158.050003   \n",
       "2024-04-29  161.500000  164.199997  159.600006  160.899994  160.899994   \n",
       "\n",
       "               volume  \n",
       "Date                   \n",
       "2021-01-29  381938573  \n",
       "2021-02-01   72044464  \n",
       "2021-02-02   36735442  \n",
       "2021-02-03   45816269  \n",
       "2021-02-04   88486029  \n",
       "...               ...  \n",
       "2024-04-23   41842082  \n",
       "2024-04-24   44593104  \n",
       "2024-04-25   43990323  \n",
       "2024-04-26  131170998  \n",
       "2024-04-29   67455723  \n",
       "\n",
       "[801 rows x 6 columns]"
      ]
     },
     "execution_count": 114,
     "metadata": {},
     "output_type": "execute_result"
    }
   ],
   "source": [
    "data"
   ]
  },
  {
   "cell_type": "code",
   "execution_count": 74,
   "id": "e26022ae-1c83-4d9a-a49f-9e27f377ed5b",
   "metadata": {},
   "outputs": [],
   "source": [
    "# Convert 'date' column to datetime\n",
    "data['Date'] = pd.to_datetime(data['Date'])\n",
    "data.set_index('Date', inplace=True)\n"
   ]
  },
  {
   "cell_type": "code",
   "execution_count": 75,
   "id": "19ce77a7-a9c0-437b-a1cf-fa7551dbcc10",
   "metadata": {},
   "outputs": [],
   "source": [
    "# Sorting as per date\n",
    "data.sort_index(inplace=True)\n"
   ]
  },
  {
   "cell_type": "code",
   "execution_count": 76,
   "id": "1335866c-5af0-4482-9cb1-60031849b9d5",
   "metadata": {},
   "outputs": [],
   "source": [
    "# Normalization\n",
    "scaler = MinMaxScaler()\n",
    "scaled_features = scaler.fit_transform(data[['open', 'high', 'low', 'close', 'adjclose']])\n",
    "scaled_data = pd.DataFrame(scaled_features, columns=['open', 'high', 'low', 'close', 'adjclose'], index=data.index)\n"
   ]
  },
  {
   "cell_type": "code",
   "execution_count": 77,
   "id": "a8797833-1a44-4cc0-b407-dc02622f8f68",
   "metadata": {},
   "outputs": [],
   "source": [
    "# Creating lag features for 'close' price in scaled_data\n",
    "scaled_data['close_lag1'] = scaled_data['close'].shift(1)\n",
    "scaled_data['close_lag2'] = scaled_data['close'].shift(2)\n"
   ]
  },
  {
   "cell_type": "code",
   "execution_count": 78,
   "id": "106b8fa0-ef54-4117-bcaf-165e83b24850",
   "metadata": {},
   "outputs": [],
   "source": [
    "# Drop rows with NaN values created by the lag features\n",
    "scaled_data.dropna(inplace=True)"
   ]
  },
  {
   "cell_type": "code",
   "execution_count": 79,
   "id": "43e0ceb0-4c62-4337-98f8-16a2e4266678",
   "metadata": {},
   "outputs": [],
   "source": [
    "# Define the train-test split ratio\n",
    "train_size = int(len(scaled_data) * 0.7)\n",
    "train_data = scaled_data[:train_size]\n",
    "test_data = scaled_data[train_size:]"
   ]
  },
  {
   "cell_type": "code",
   "execution_count": 80,
   "id": "47643a32-76a7-423f-939f-792a89925a5d",
   "metadata": {},
   "outputs": [],
   "source": [
    "# Define the target variable and features\n",
    "X_train = train_data[['open', 'high', 'low', 'close_lag1', 'close_lag2']].values\n",
    "y_train = train_data['close'].values\n"
   ]
  },
  {
   "cell_type": "code",
   "execution_count": 81,
   "id": "8a6d0c91-b02f-405e-a2e5-3a104bd7f116",
   "metadata": {},
   "outputs": [],
   "source": [
    "X_test = test_data[['open', 'high', 'low', 'close_lag1', 'close_lag2']].values\n",
    "y_test = test_data['close'].values\n"
   ]
  },
  {
   "cell_type": "code",
   "execution_count": 82,
   "id": "965f1640-fd90-4610-9d58-09190fe5afb9",
   "metadata": {},
   "outputs": [],
   "source": [
    "# Reshape the data into the format [samples, timesteps, features]\n",
    "def create_dataset(X, y, time_steps=1):\n",
    "    Xs, ys = [], []\n",
    "    for i in range(len(X) - time_steps):\n",
    "        v = X[i:(i + time_steps)]\n",
    "        Xs.append(v)\n",
    "        ys.append(y[i + time_steps])\n",
    "    return np.array(Xs), np.array(ys)\n",
    "\n",
    "time_steps = 1\n",
    "X_train, y_train = create_dataset(X_train, y_train, time_steps)\n",
    "X_test, y_test = create_dataset(X_test, y_test, time_steps)\n"
   ]
  },
  {
   "cell_type": "code",
   "execution_count": 83,
   "id": "bb8c0dad-dec8-45f5-b079-f316214db4eb",
   "metadata": {},
   "outputs": [],
   "source": [
    "# Reshape data to 3D [samples, time_steps, features]\n",
    "X_train = X_train.reshape((X_train.shape[0], X_train.shape[1], X_train.shape[2]))\n",
    "X_test = X_test.reshape((X_test.shape[0], X_test.shape[1], X_test.shape[2]))\n"
   ]
  },
  {
   "cell_type": "code",
   "execution_count": 104,
   "id": "56afc6f4-38bc-41dc-bc1b-928637e5646e",
   "metadata": {},
   "outputs": [
    {
     "name": "stderr",
     "output_type": "stream",
     "text": [
      "C:\\Users\\Rajan\\anaconda3\\Lib\\site-packages\\keras\\src\\layers\\rnn\\rnn.py:204: UserWarning: Do not pass an `input_shape`/`input_dim` argument to a layer. When using Sequential models, prefer using an `Input(shape)` object as the first layer in the model instead.\n",
      "  super().__init__(**kwargs)\n"
     ]
    }
   ],
   "source": [
    "# Define the LSTM model\n",
    "model = Sequential()\n",
    "model.add(LSTM(70, return_sequences=True, input_shape=(time_steps, X_train.shape[2])))\n",
    "model.add(LSTM(70, return_sequences=False))\n",
    "model.add(Dense(1))\n",
    "optimizer=Adam(learning_rate=0.001)\n",
    "model.compile(optimizer=optimizer, loss='mean_squared_error')"
   ]
  },
  {
   "cell_type": "code",
   "execution_count": 105,
   "id": "e667f80c-5c4e-4e4a-acd6-dbae132c229e",
   "metadata": {},
   "outputs": [],
   "source": [
    "early_stopping = EarlyStopping(monitor='val_loss', patience=10, restore_best_weights=True)\n"
   ]
  },
  {
   "cell_type": "code",
   "execution_count": 106,
   "id": "d20af41b-6c6f-401e-9961-440330624dff",
   "metadata": {},
   "outputs": [
    {
     "name": "stdout",
     "output_type": "stream",
     "text": [
      "Epoch 1/45\n",
      "\u001b[1m28/28\u001b[0m \u001b[32m━━━━━━━━━━━━━━━━━━━━\u001b[0m\u001b[37m\u001b[0m \u001b[1m4s\u001b[0m 14ms/step - loss: 2.1439e-04 - val_loss: 0.0029\n",
      "Epoch 2/45\n",
      "\u001b[1m28/28\u001b[0m \u001b[32m━━━━━━━━━━━━━━━━━━━━\u001b[0m\u001b[37m\u001b[0m \u001b[1m0s\u001b[0m 3ms/step - loss: 7.7463e-05 - val_loss: 0.0019\n",
      "Epoch 3/45\n",
      "\u001b[1m28/28\u001b[0m \u001b[32m━━━━━━━━━━━━━━━━━━━━\u001b[0m\u001b[37m\u001b[0m \u001b[1m0s\u001b[0m 3ms/step - loss: 7.8750e-05 - val_loss: 0.0013\n",
      "Epoch 4/45\n",
      "\u001b[1m28/28\u001b[0m \u001b[32m━━━━━━━━━━━━━━━━━━━━\u001b[0m\u001b[37m\u001b[0m \u001b[1m0s\u001b[0m 3ms/step - loss: 4.8912e-05 - val_loss: 4.8875e-04\n",
      "Epoch 5/45\n",
      "\u001b[1m28/28\u001b[0m \u001b[32m━━━━━━━━━━━━━━━━━━━━\u001b[0m\u001b[37m\u001b[0m \u001b[1m0s\u001b[0m 3ms/step - loss: 1.9109e-05 - val_loss: 1.0094e-04\n",
      "Epoch 6/45\n",
      "\u001b[1m28/28\u001b[0m \u001b[32m━━━━━━━━━━━━━━━━━━━━\u001b[0m\u001b[37m\u001b[0m \u001b[1m0s\u001b[0m 2ms/step - loss: 9.0609e-06 - val_loss: 6.1423e-05\n",
      "Epoch 7/45\n",
      "\u001b[1m28/28\u001b[0m \u001b[32m━━━━━━━━━━━━━━━━━━━━\u001b[0m\u001b[37m\u001b[0m \u001b[1m0s\u001b[0m 3ms/step - loss: 6.1401e-06 - val_loss: 5.9267e-05\n",
      "Epoch 8/45\n",
      "\u001b[1m28/28\u001b[0m \u001b[32m━━━━━━━━━━━━━━━━━━━━\u001b[0m\u001b[37m\u001b[0m \u001b[1m0s\u001b[0m 3ms/step - loss: 7.2870e-06 - val_loss: 5.9377e-05\n",
      "Epoch 9/45\n",
      "\u001b[1m28/28\u001b[0m \u001b[32m━━━━━━━━━━━━━━━━━━━━\u001b[0m\u001b[37m\u001b[0m \u001b[1m0s\u001b[0m 4ms/step - loss: 6.8515e-06 - val_loss: 5.9483e-05\n",
      "Epoch 10/45\n",
      "\u001b[1m28/28\u001b[0m \u001b[32m━━━━━━━━━━━━━━━━━━━━\u001b[0m\u001b[37m\u001b[0m \u001b[1m0s\u001b[0m 3ms/step - loss: 7.2231e-06 - val_loss: 5.9974e-05\n",
      "Epoch 11/45\n",
      "\u001b[1m28/28\u001b[0m \u001b[32m━━━━━━━━━━━━━━━━━━━━\u001b[0m\u001b[37m\u001b[0m \u001b[1m0s\u001b[0m 3ms/step - loss: 7.0493e-06 - val_loss: 5.9325e-05\n",
      "Epoch 12/45\n",
      "\u001b[1m28/28\u001b[0m \u001b[32m━━━━━━━━━━━━━━━━━━━━\u001b[0m\u001b[37m\u001b[0m \u001b[1m0s\u001b[0m 2ms/step - loss: 7.1749e-06 - val_loss: 5.8431e-05\n",
      "Epoch 13/45\n",
      "\u001b[1m28/28\u001b[0m \u001b[32m━━━━━━━━━━━━━━━━━━━━\u001b[0m\u001b[37m\u001b[0m \u001b[1m0s\u001b[0m 3ms/step - loss: 9.4970e-06 - val_loss: 5.8762e-05\n",
      "Epoch 14/45\n",
      "\u001b[1m28/28\u001b[0m \u001b[32m━━━━━━━━━━━━━━━━━━━━\u001b[0m\u001b[37m\u001b[0m \u001b[1m0s\u001b[0m 3ms/step - loss: 7.3946e-06 - val_loss: 5.8358e-05\n",
      "Epoch 15/45\n",
      "\u001b[1m28/28\u001b[0m \u001b[32m━━━━━━━━━━━━━━━━━━━━\u001b[0m\u001b[37m\u001b[0m \u001b[1m0s\u001b[0m 2ms/step - loss: 7.6477e-06 - val_loss: 5.9458e-05\n",
      "Epoch 16/45\n",
      "\u001b[1m28/28\u001b[0m \u001b[32m━━━━━━━━━━━━━━━━━━━━\u001b[0m\u001b[37m\u001b[0m \u001b[1m0s\u001b[0m 3ms/step - loss: 7.1258e-06 - val_loss: 6.5153e-05\n",
      "Epoch 17/45\n",
      "\u001b[1m28/28\u001b[0m \u001b[32m━━━━━━━━━━━━━━━━━━━━\u001b[0m\u001b[37m\u001b[0m \u001b[1m0s\u001b[0m 2ms/step - loss: 8.4011e-06 - val_loss: 5.8267e-05\n",
      "Epoch 18/45\n",
      "\u001b[1m28/28\u001b[0m \u001b[32m━━━━━━━━━━━━━━━━━━━━\u001b[0m\u001b[37m\u001b[0m \u001b[1m0s\u001b[0m 3ms/step - loss: 6.6373e-06 - val_loss: 5.8427e-05\n",
      "Epoch 19/45\n",
      "\u001b[1m28/28\u001b[0m \u001b[32m━━━━━━━━━━━━━━━━━━━━\u001b[0m\u001b[37m\u001b[0m \u001b[1m0s\u001b[0m 3ms/step - loss: 8.9811e-06 - val_loss: 5.7795e-05\n",
      "Epoch 20/45\n",
      "\u001b[1m28/28\u001b[0m \u001b[32m━━━━━━━━━━━━━━━━━━━━\u001b[0m\u001b[37m\u001b[0m \u001b[1m0s\u001b[0m 2ms/step - loss: 7.4164e-06 - val_loss: 5.9948e-05\n",
      "Epoch 21/45\n",
      "\u001b[1m28/28\u001b[0m \u001b[32m━━━━━━━━━━━━━━━━━━━━\u001b[0m\u001b[37m\u001b[0m \u001b[1m0s\u001b[0m 3ms/step - loss: 7.2475e-06 - val_loss: 5.8023e-05\n",
      "Epoch 22/45\n",
      "\u001b[1m28/28\u001b[0m \u001b[32m━━━━━━━━━━━━━━━━━━━━\u001b[0m\u001b[37m\u001b[0m \u001b[1m0s\u001b[0m 3ms/step - loss: 7.6093e-06 - val_loss: 5.7844e-05\n",
      "Epoch 23/45\n",
      "\u001b[1m28/28\u001b[0m \u001b[32m━━━━━━━━━━━━━━━━━━━━\u001b[0m\u001b[37m\u001b[0m \u001b[1m0s\u001b[0m 3ms/step - loss: 6.8932e-06 - val_loss: 5.8807e-05\n",
      "Epoch 24/45\n",
      "\u001b[1m28/28\u001b[0m \u001b[32m━━━━━━━━━━━━━━━━━━━━\u001b[0m\u001b[37m\u001b[0m \u001b[1m0s\u001b[0m 2ms/step - loss: 6.4162e-06 - val_loss: 5.7188e-05\n",
      "Epoch 25/45\n",
      "\u001b[1m28/28\u001b[0m \u001b[32m━━━━━━━━━━━━━━━━━━━━\u001b[0m\u001b[37m\u001b[0m \u001b[1m0s\u001b[0m 2ms/step - loss: 7.4436e-06 - val_loss: 5.7524e-05\n",
      "Epoch 26/45\n",
      "\u001b[1m28/28\u001b[0m \u001b[32m━━━━━━━━━━━━━━━━━━━━\u001b[0m\u001b[37m\u001b[0m \u001b[1m0s\u001b[0m 2ms/step - loss: 7.9411e-06 - val_loss: 5.7251e-05\n",
      "Epoch 27/45\n",
      "\u001b[1m28/28\u001b[0m \u001b[32m━━━━━━━━━━━━━━━━━━━━\u001b[0m\u001b[37m\u001b[0m \u001b[1m0s\u001b[0m 3ms/step - loss: 6.2107e-06 - val_loss: 5.6888e-05\n",
      "Epoch 28/45\n",
      "\u001b[1m28/28\u001b[0m \u001b[32m━━━━━━━━━━━━━━━━━━━━\u001b[0m\u001b[37m\u001b[0m \u001b[1m0s\u001b[0m 2ms/step - loss: 7.5994e-06 - val_loss: 5.9295e-05\n",
      "Epoch 29/45\n",
      "\u001b[1m28/28\u001b[0m \u001b[32m━━━━━━━━━━━━━━━━━━━━\u001b[0m\u001b[37m\u001b[0m \u001b[1m0s\u001b[0m 2ms/step - loss: 7.3791e-06 - val_loss: 5.9820e-05\n",
      "Epoch 30/45\n",
      "\u001b[1m28/28\u001b[0m \u001b[32m━━━━━━━━━━━━━━━━━━━━\u001b[0m\u001b[37m\u001b[0m \u001b[1m0s\u001b[0m 2ms/step - loss: 7.0043e-06 - val_loss: 5.6544e-05\n",
      "Epoch 31/45\n",
      "\u001b[1m28/28\u001b[0m \u001b[32m━━━━━━━━━━━━━━━━━━━━\u001b[0m\u001b[37m\u001b[0m \u001b[1m0s\u001b[0m 2ms/step - loss: 7.4397e-06 - val_loss: 5.8337e-05\n",
      "Epoch 32/45\n",
      "\u001b[1m28/28\u001b[0m \u001b[32m━━━━━━━━━━━━━━━━━━━━\u001b[0m\u001b[37m\u001b[0m \u001b[1m0s\u001b[0m 3ms/step - loss: 7.1085e-06 - val_loss: 5.6089e-05\n",
      "Epoch 33/45\n",
      "\u001b[1m28/28\u001b[0m \u001b[32m━━━━━━━━━━━━━━━━━━━━\u001b[0m\u001b[37m\u001b[0m \u001b[1m0s\u001b[0m 2ms/step - loss: 7.9063e-06 - val_loss: 5.6444e-05\n",
      "Epoch 34/45\n",
      "\u001b[1m28/28\u001b[0m \u001b[32m━━━━━━━━━━━━━━━━━━━━\u001b[0m\u001b[37m\u001b[0m \u001b[1m0s\u001b[0m 3ms/step - loss: 6.5871e-06 - val_loss: 5.6398e-05\n",
      "Epoch 35/45\n",
      "\u001b[1m28/28\u001b[0m \u001b[32m━━━━━━━━━━━━━━━━━━━━\u001b[0m\u001b[37m\u001b[0m \u001b[1m0s\u001b[0m 3ms/step - loss: 7.2269e-06 - val_loss: 5.6811e-05\n",
      "Epoch 36/45\n",
      "\u001b[1m28/28\u001b[0m \u001b[32m━━━━━━━━━━━━━━━━━━━━\u001b[0m\u001b[37m\u001b[0m \u001b[1m0s\u001b[0m 3ms/step - loss: 8.1490e-06 - val_loss: 5.5641e-05\n",
      "Epoch 37/45\n",
      "\u001b[1m28/28\u001b[0m \u001b[32m━━━━━━━━━━━━━━━━━━━━\u001b[0m\u001b[37m\u001b[0m \u001b[1m0s\u001b[0m 2ms/step - loss: 7.7751e-06 - val_loss: 5.5932e-05\n",
      "Epoch 38/45\n",
      "\u001b[1m28/28\u001b[0m \u001b[32m━━━━━━━━━━━━━━━━━━━━\u001b[0m\u001b[37m\u001b[0m \u001b[1m0s\u001b[0m 4ms/step - loss: 6.8191e-06 - val_loss: 5.5596e-05\n",
      "Epoch 39/45\n",
      "\u001b[1m28/28\u001b[0m \u001b[32m━━━━━━━━━━━━━━━━━━━━\u001b[0m\u001b[37m\u001b[0m \u001b[1m0s\u001b[0m 2ms/step - loss: 7.8894e-06 - val_loss: 5.5201e-05\n",
      "Epoch 40/45\n",
      "\u001b[1m28/28\u001b[0m \u001b[32m━━━━━━━━━━━━━━━━━━━━\u001b[0m\u001b[37m\u001b[0m \u001b[1m0s\u001b[0m 2ms/step - loss: 6.1472e-06 - val_loss: 5.5786e-05\n",
      "Epoch 41/45\n",
      "\u001b[1m28/28\u001b[0m \u001b[32m━━━━━━━━━━━━━━━━━━━━\u001b[0m\u001b[37m\u001b[0m \u001b[1m0s\u001b[0m 2ms/step - loss: 8.1523e-06 - val_loss: 5.5311e-05\n",
      "Epoch 42/45\n",
      "\u001b[1m28/28\u001b[0m \u001b[32m━━━━━━━━━━━━━━━━━━━━\u001b[0m\u001b[37m\u001b[0m \u001b[1m0s\u001b[0m 2ms/step - loss: 7.0750e-06 - val_loss: 5.7836e-05\n",
      "Epoch 43/45\n",
      "\u001b[1m28/28\u001b[0m \u001b[32m━━━━━━━━━━━━━━━━━━━━\u001b[0m\u001b[37m\u001b[0m \u001b[1m0s\u001b[0m 3ms/step - loss: 7.6079e-06 - val_loss: 5.5965e-05\n",
      "Epoch 44/45\n",
      "\u001b[1m28/28\u001b[0m \u001b[32m━━━━━━━━━━━━━━━━━━━━\u001b[0m\u001b[37m\u001b[0m \u001b[1m0s\u001b[0m 3ms/step - loss: 5.5918e-06 - val_loss: 5.5620e-05\n",
      "Epoch 45/45\n",
      "\u001b[1m28/28\u001b[0m \u001b[32m━━━━━━━━━━━━━━━━━━━━\u001b[0m\u001b[37m\u001b[0m \u001b[1m0s\u001b[0m 3ms/step - loss: 7.5658e-06 - val_loss: 5.6361e-05\n"
     ]
    }
   ],
   "source": [
    "history = model.fit(X_train, y_train, epochs=45, batch_size=16, validation_split=0.2, callbacks=[early_stopping], verbose=1)\n"
   ]
  },
  {
   "cell_type": "code",
   "execution_count": null,
   "id": "34859678-222f-4ea2-94fb-65675176f19c",
   "metadata": {},
   "outputs": [],
   "source": []
  },
  {
   "cell_type": "code",
   "execution_count": 107,
   "id": "d3d85cc4-dff1-43ff-b52f-2cbeff053309",
   "metadata": {},
   "outputs": [
    {
     "name": "stdout",
     "output_type": "stream",
     "text": [
      "\u001b[1m8/8\u001b[0m \u001b[32m━━━━━━━━━━━━━━━━━━━━\u001b[0m\u001b[37m\u001b[0m \u001b[1m1s\u001b[0m 40ms/step\n"
     ]
    }
   ],
   "source": [
    "# Make predictions\n",
    "y_pred = model.predict(X_test)"
   ]
  },
  {
   "cell_type": "code",
   "execution_count": 108,
   "id": "f1a39575-ab19-40f1-8ed8-e7773f57f83e",
   "metadata": {},
   "outputs": [],
   "source": [
    "# Inverse transform predictions to get actual values (if needed)\n",
    "def inverse_transform_single_column(scaler, data, column_index):\n",
    "    dummy = np.zeros((len(data), scaler.n_features_in_))\n",
    "    dummy[:, column_index] = data[:, 0]\n",
    "    return scaler.inverse_transform(dummy)[:, column_index]"
   ]
  },
  {
   "cell_type": "code",
   "execution_count": 109,
   "id": "dc22aada-b092-4434-9aaf-a8f9bb4fa312",
   "metadata": {},
   "outputs": [],
   "source": [
    "# Inverse transform y_test and y_pred\n",
    "y_test_inv = inverse_transform_single_column(scaler, y_test.reshape(-1, 1), data.columns.get_loc('close'))\n",
    "y_pred_inv = inverse_transform_single_column(scaler, y_pred, data.columns.get_loc('close'))\n"
   ]
  },
  {
   "cell_type": "code",
   "execution_count": 110,
   "id": "56cbfef5-8c33-413f-a4f0-51c0ab0bc27d",
   "metadata": {},
   "outputs": [
    {
     "data": {
      "image/png": "[encoded data removed]",
      "text/plain": [
       "<Figure size 1000x600 with 1 Axes>"
      ]
     },
     "metadata": {},
     "output_type": "display_data"
    }
   ],
   "source": [
    "# Adjusting the indices to match the lengths of y_test_inv and y_pred_inv\n",
    "adjusted_index = data.index[train_size + time_steps:train_size + time_steps + len(y_test_inv)]\n",
    "\n",
    "# Plotting the results\n",
    "plt.figure(figsize=(10, 6))\n",
    "plt.plot(adjusted_index, y_test_inv, label='Actual')\n",
    "plt.plot(adjusted_index, y_pred_inv, label='Predicted')\n",
    "plt.legend()\n",
    "plt.grid(True)  # Add grid\n",
    "plt.xlabel('Date')  # Label for x-axis\n",
    "plt.ylabel('Price')  # Label for y-axis\n",
    "plt.title('Actual vs Predicted Prices')  # Title for the plot\n",
    "plt.show()"
   ]
  },
  {
   "cell_type": "code",
   "execution_count": 111,
   "id": "df8711d5-0cc2-47a8-9447-4cd69856c70d",
   "metadata": {},
   "outputs": [
    {
     "data": {
      "image/png": "[encoded data removed]",
      "text/plain": [
       "<Figure size 1000x600 with 1 Axes>"
      ]
     },
     "metadata": {},
     "output_type": "display_data"
    }
   ],
   "source": [
    "# Plotting the training and validation loss\n",
    "plt.figure(figsize=(10, 6))\n",
    "plt.plot(history.history['loss'], label='Training Loss')\n",
    "plt.plot(history.history['val_loss'], label='Validation Loss')\n",
    "plt.title('Model Loss Comparison')\n",
    "plt.xlabel('Epochs')\n",
    "plt.ylabel('Loss')\n",
    "plt.legend()\n",
    "plt.show()\n"
   ]
  },
  {
   "cell_type": "code",
   "execution_count": 112,
   "id": "35b288f8-6e3a-413c-818a-6e3bc3c35cef",
   "metadata": {},
   "outputs": [
    {
     "name": "stdout",
     "output_type": "stream",
     "text": [
      "Requirement already satisfied: tensorflow in c:\\users\\rajan\\anaconda3\\lib\\site-packages (2.17.0)\n",
      "Requirement already satisfied: tensorflow-intel==2.17.0 in c:\\users\\rajan\\anaconda3\\lib\\site-packages (from tensorflow) (2.17.0)\n",
      "Requirement already satisfied: absl-py>=1.0.0 in c:\\users\\rajan\\anaconda3\\lib\\site-packages (from tensorflow-intel==2.17.0->tensorflow) (2.1.0)\n",
      "Requirement already satisfied: astunparse>=1.6.0 in c:\\users\\rajan\\anaconda3\\lib\\site-packages (from tensorflow-intel==2.17.0->tensorflow) (1.6.3)\n",
      "Requirement already satisfied: flatbuffers>=24.3.25 in c:\\users\\rajan\\anaconda3\\lib\\site-packages (from tensorflow-intel==2.17.0->tensorflow) (24.3.25)\n",
      "Requirement already satisfied: gast!=0.5.0,!=0.5.1,!=0.5.2,>=0.2.1 in c:\\users\\rajan\\anaconda3\\lib\\site-packages (from tensorflow-intel==2.17.0->tensorflow) (0.5.4)\n",
      "Requirement already satisfied: google-pasta>=0.1.1 in c:\\users\\rajan\\anaconda3\\lib\\site-packages (from tensorflow-intel==2.17.0->tensorflow) (0.2.0)\n",
      "Requirement already satisfied: h5py>=3.10.0 in c:\\users\\rajan\\anaconda3\\lib\\site-packages (from tensorflow-intel==2.17.0->tensorflow) (3.11.0)\n",
      "Requirement already satisfied: libclang>=13.0.0 in c:\\users\\rajan\\anaconda3\\lib\\site-packages (from tensorflow-intel==2.17.0->tensorflow) (18.1.1)\n",
      "Requirement already satisfied: ml-dtypes<0.5.0,>=0.3.1 in c:\\users\\rajan\\anaconda3\\lib\\site-packages (from tensorflow-intel==2.17.0->tensorflow) (0.3.2)\n",
      "Requirement already satisfied: opt-einsum>=2.3.2 in c:\\users\\rajan\\anaconda3\\lib\\site-packages (from tensorflow-intel==2.17.0->tensorflow) (3.3.0)\n",
      "Requirement already satisfied: packaging in c:\\users\\rajan\\anaconda3\\lib\\site-packages (from tensorflow-intel==2.17.0->tensorflow) (23.1)\n",
      "Requirement already satisfied: protobuf!=4.21.0,!=4.21.1,!=4.21.2,!=4.21.3,!=4.21.4,!=4.21.5,<5.0.0dev,>=3.20.3 in c:\\users\\rajan\\anaconda3\\lib\\site-packages (from tensorflow-intel==2.17.0->tensorflow) (3.20.3)\n",
      "Requirement already satisfied: requests<3,>=2.21.0 in c:\\users\\rajan\\anaconda3\\lib\\site-packages (from tensorflow-intel==2.17.0->tensorflow) (2.31.0)\n",
      "Requirement already satisfied: setuptools in c:\\users\\rajan\\anaconda3\\lib\\site-packages (from tensorflow-intel==2.17.0->tensorflow) (68.2.2)\n",
      "Requirement already satisfied: six>=1.12.0 in c:\\users\\rajan\\anaconda3\\lib\\site-packages (from tensorflow-intel==2.17.0->tensorflow) (1.16.0)\n",
      "Requirement already satisfied: termcolor>=1.1.0 in c:\\users\\rajan\\anaconda3\\lib\\site-packages (from tensorflow-intel==2.17.0->tensorflow) (2.4.0)\n",
      "Requirement already satisfied: typing-extensions>=3.6.6 in c:\\users\\rajan\\anaconda3\\lib\\site-packages (from tensorflow-intel==2.17.0->tensorflow) (4.9.0)\n",
      "Requirement already satisfied: wrapt>=1.11.0 in c:\\users\\rajan\\anaconda3\\lib\\site-packages (from tensorflow-intel==2.17.0->tensorflow) (1.14.1)\n",
      "Requirement already satisfied: grpcio<2.0,>=1.24.3 in c:\\users\\rajan\\anaconda3\\lib\\site-packages (from tensorflow-intel==2.17.0->tensorflow) (1.64.1)\n",
      "Requirement already satisfied: tensorboard<2.18,>=2.17 in c:\\users\\rajan\\anaconda3\\lib\\site-packages (from tensorflow-intel==2.17.0->tensorflow) (2.17.0)\n",
      "Requirement already satisfied: keras>=3.2.0 in c:\\users\\rajan\\anaconda3\\lib\\site-packages (from tensorflow-intel==2.17.0->tensorflow) (3.3.3)\n",
      "Requirement already satisfied: tensorflow-io-gcs-filesystem>=0.23.1 in c:\\users\\rajan\\anaconda3\\lib\\site-packages (from tensorflow-intel==2.17.0->tensorflow) (0.31.0)\n",
      "Requirement already satisfied: numpy<2.0.0,>=1.23.5 in c:\\users\\rajan\\anaconda3\\lib\\site-packages (from tensorflow-intel==2.17.0->tensorflow) (1.26.4)\n",
      "Requirement already satisfied: wheel<1.0,>=0.23.0 in c:\\users\\rajan\\anaconda3\\lib\\site-packages (from astunparse>=1.6.0->tensorflow-intel==2.17.0->tensorflow) (0.41.2)\n",
      "Requirement already satisfied: rich in c:\\users\\rajan\\anaconda3\\lib\\site-packages (from keras>=3.2.0->tensorflow-intel==2.17.0->tensorflow) (13.3.5)\n",
      "Requirement already satisfied: namex in c:\\users\\rajan\\anaconda3\\lib\\site-packages (from keras>=3.2.0->tensorflow-intel==2.17.0->tensorflow) (0.0.8)\n",
      "Requirement already satisfied: optree in c:\\users\\rajan\\anaconda3\\lib\\site-packages (from keras>=3.2.0->tensorflow-intel==2.17.0->tensorflow) (0.11.0)\n",
      "Requirement already satisfied: charset-normalizer<4,>=2 in c:\\users\\rajan\\anaconda3\\lib\\site-packages (from requests<3,>=2.21.0->tensorflow-intel==2.17.0->tensorflow) (2.0.4)\n",
      "Requirement already satisfied: idna<4,>=2.5 in c:\\users\\rajan\\anaconda3\\lib\\site-packages (from requests<3,>=2.21.0->tensorflow-intel==2.17.0->tensorflow) (3.4)\n",
      "Requirement already satisfied: urllib3<3,>=1.21.1 in c:\\users\\rajan\\anaconda3\\lib\\site-packages (from requests<3,>=2.21.0->tensorflow-intel==2.17.0->tensorflow) (2.0.7)\n",
      "Requirement already satisfied: certifi>=2017.4.17 in c:\\users\\rajan\\anaconda3\\lib\\site-packages (from requests<3,>=2.21.0->tensorflow-intel==2.17.0->tensorflow) (2024.2.2)\n",
      "Requirement already satisfied: markdown>=2.6.8 in c:\\users\\rajan\\anaconda3\\lib\\site-packages (from tensorboard<2.18,>=2.17->tensorflow-intel==2.17.0->tensorflow) (3.4.1)\n",
      "Requirement already satisfied: tensorboard-data-server<0.8.0,>=0.7.0 in c:\\users\\rajan\\anaconda3\\lib\\site-packages (from tensorboard<2.18,>=2.17->tensorflow-intel==2.17.0->tensorflow) (0.7.2)\n",
      "Requirement already satisfied: werkzeug>=1.0.1 in c:\\users\\rajan\\anaconda3\\lib\\site-packages (from tensorboard<2.18,>=2.17->tensorflow-intel==2.17.0->tensorflow) (2.2.3)\n",
      "Requirement already satisfied: MarkupSafe>=2.1.1 in c:\\users\\rajan\\anaconda3\\lib\\site-packages (from werkzeug>=1.0.1->tensorboard<2.18,>=2.17->tensorflow-intel==2.17.0->tensorflow) (2.1.3)\n",
      "Requirement already satisfied: markdown-it-py<3.0.0,>=2.2.0 in c:\\users\\rajan\\anaconda3\\lib\\site-packages (from rich->keras>=3.2.0->tensorflow-intel==2.17.0->tensorflow) (2.2.0)\n",
      "Requirement already satisfied: pygments<3.0.0,>=2.13.0 in c:\\users\\rajan\\anaconda3\\lib\\site-packages (from rich->keras>=3.2.0->tensorflow-intel==2.17.0->tensorflow) (2.15.1)\n",
      "Requirement already satisfied: mdurl~=0.1 in c:\\users\\rajan\\anaconda3\\lib\\site-packages (from markdown-it-py<3.0.0,>=2.2.0->rich->keras>=3.2.0->tensorflow-intel==2.17.0->tensorflow) (0.1.0)\n",
      "Note: you may need to restart the kernel to use updated packages.\n"
     ]
    },
    {
     "name": "stderr",
     "output_type": "stream",
     "text": [
      "\n",
      "[notice] A new release of pip is available: 24.1 -> 24.2\n",
      "[notice] To update, run: python.exe -m pip install --upgrade pip\n"
     ]
    }
   ],
   "source": [
    "pip install --upgrade tensorflow\n"
   ]
  },
  {
   "cell_type": "code",
   "execution_count": null,
   "id": "0d6b356a-996e-45ce-9608-39e0d60435a8",
   "metadata": {},
   "outputs": [],
   "source": []
  },
  {
   "cell_type": "code",
   "execution_count": 113,
   "id": "2597d01b-f5a6-4c52-817d-ef43f1173cfe",
   "metadata": {},
   "outputs": [
    {
     "name": "stdout",
     "output_type": "stream",
     "text": [
      "Mean Absolute Error: 6.690590251250037\n",
      "Root Mean Squared Error: 10.50255854723997\n",
      "R-squared: 0.9464796552484989\n"
     ]
    }
   ],
   "source": [
    "# Calculate accuracy metrics\n",
    "mae = mean_absolute_error(y_test_inv, y_pred_inv)\n",
    "rmse = np.sqrt(mean_squared_error(y_test_inv, y_pred_inv))\n",
    "r2 = r2_score(y_test_inv, y_pred_inv)\n",
    "\n",
    "print(f'Mean Absolute Error: {mae}')\n",
    "print(f'Root Mean Squared Error: {rmse}')\n",
    "print(f'R-squared: {r2}')\n"
   ]
  },
  {
   "cell_type": "code",
   "execution_count": null,
   "id": "8fba3cc2-671c-44ee-a6dd-8ecfe2685c73",
   "metadata": {},
   "outputs": [],
   "source": []
  },
  {
   "cell_type": "code",
   "execution_count": null,
   "id": "b26a1b19-2223-4439-9e35-d6ff179cebff",
   "metadata": {},
   "outputs": [],
   "source": []
  }
 ],
 "metadata": {
  "kernelspec": {
   "display_name": "Python 3 (ipykernel)",
   "language": "python",
   "name": "python3"
  },
  "language_info": {
   "codemirror_mode": {
    "name": "ipython",
    "version": 3
   },
   "file_extension": ".py",
   "mimetype": "text/x-python",
   "name": "python",
   "nbconvert_exporter": "python",
   "pygments_lexer": "ipython3",
   "version": "3.11.7"
  }
 },
 "nbformat": 4,
 "nbformat_minor": 5
}
